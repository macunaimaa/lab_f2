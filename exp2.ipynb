{
 "cells": [
  {
   "cell_type": "code",
   "execution_count": 10,
   "metadata": {},
   "outputs": [],
   "source": [
    "import pandas as pd\n",
    "import numpy as np\n",
    "import matplotlib.pyplot as plt"
   ]
  },
  {
   "cell_type": "code",
   "execution_count": 11,
   "metadata": {},
   "outputs": [
    {
     "data": {
      "text/plain": [
       "['Grandeza; Valor; Resolução; Descrição\\n',\n",
       " 'V   ;150;5;\" \"\"Volume de água no béquer cuja resolução é 5 ml\"\"\"\\n',\n",
       " 'Ma  ;144;1;\" \"\"Massa da água no béquer, medida pela balança\"\"\"\\n',\n",
       " 'Mt  ;300;1;\" \"\"Massa total dos discos\"\"\"\\n',\n",
       " 'Vt  ;35;5;\" \"\"Volume total de água deslocada ao inserir os discos\"\"\"\\n',\n",
       " 'm1  ;50;1;\" \"\"Massa do disco 1 utilizando uma balança digital cuja resolução é 1 g\"\"\"\\n',\n",
       " 'm2  ;50;1;\" \"\"Massa do disco 2 utilizando uma balança digital cuja resolução é 1 g\"\"\"\\n',\n",
       " 'm3  ;50;1;\" \"\"Massa do disco 3 utilizando uma balança digital cuja resolução é 1 g\"\"\"\\n',\n",
       " 'm4  ;50;1;\" \"\"Massa do disco 4 utilizando uma balança digital cuja resolução é 1 g\"\"\"\\n',\n",
       " 'm5  ;50;1;\" \"\"Massa do disco 5 utilizando uma balança digital cuja resolução é 1 g\"\"\"\\n',\n",
       " 'm6;50;1;\" \"\"Massa do disco 6 utilizando uma balança digital cuja resolução é 1 g\"\"\"\\n',\n",
       " 'ma1 ;6;1;\" \"\"Massa do volume de água deslocada com 1 disco\"\"\"\\n',\n",
       " 'ma2 ;12;1;\" \"\"Massa do volume de água deslocada com 2 discos\"\"\"\\n',\n",
       " 'ma3 ;28;1;\" \"\"Massa do volume de água deslocada com 3 discos\"\"\"\\n',\n",
       " 'ma4 ;24;1;\" \"\"Massa do volume de água deslocada com 4 discos\"\"\"\\n',\n",
       " 'ma5 ;30;1;\" \"\"Massa do volume de água deslocada com 5 discos\"\"\"\\n',\n",
       " 'ma6;36;1;\" \"\"Massa do volume de água deslocada com 6 discos\"\"\"\\n',\n",
       " 'd1e ; 35.00  ; 0.05  ;\" \"\"Diâmetro externo do disco 1, com o paquímetro cuja resolução é 0.05 mm\"\"\"\\n',\n",
       " 'd1i ;  3.10; 0.05  ;\" \"\"Diâmetro interno do disco 1, com o paquímetro cuja resolução é 0.05 mm\"\"\"\\n',\n",
       " 'h1  ; 6.50   ; 0.05  ;\" \"\"Altura do disco 1, com o paquímetro cuja resolução é 0.05\"\"\"\\n',\n",
       " 'd2e ; 35.00  ; 0.05  ;\" \"\"Diâmetro externo do disco 2, com o paquímetro cuja resolução é 0.05 mm\"\"\"\\n',\n",
       " 'd2i ;  3.10; 0.05  ;\" \"\"Diâmetro interno do disco 2, com o paquímetro cuja resolução é 0.05 mm\"\"\"\\n',\n",
       " 'h2  ; 6.50   ; 0.05  ;\" \"\"Altura do disco 2, com o paquímetro cuja resolução é 0.05\"\"\"\\n',\n",
       " 'd3e ; 35.00  ; 0.05  ;\" \"\"Diâmetro externo do disco 3, com o paquímetro cuja resolução é 0.05 mm\"\"\"\\n',\n",
       " 'd3i ;  3.10; 0.05  ;\" \"\"Diâmetro interno do disco 3, com o paquímetro cuja resolução é 0.05 mm\"\"\"\\n',\n",
       " 'h3  ; 6.50   ; 0.05  ;\" \"\"Altura do disco 3, com o paquímetro cuja resolução é 0.05\"\"\"\\n',\n",
       " 'd4e ; 35.00  ; 0.05  ;\" \"\"Diâmetro externo do disco 4, com o paquímetro cuja resolução é 0.05 mm\"\"\"\\n',\n",
       " 'd4i ;  3.10; 0.05  ;\" \"\"Diâmetro interno do disco 4, com o paquímetro cuja resolução é 0.05 mm\"\"\"\\n',\n",
       " 'h4  ; 6.50   ; 0.05  ;\" \"\"Altura do disco 4, com o paquímetro cuja resolução é 0.05\"\"\"\\n',\n",
       " 'd5e ; 35.00  ; 0.05  ;\" \"\"Diâmetro externo do disco 5, com o paquímetro cuja resolução é 0.05 mm\"\"\"\\n']"
      ]
     },
     "execution_count": 11,
     "metadata": {},
     "output_type": "execute_result"
    }
   ],
   "source": [
    "\n",
    "with open(\"Exp_01_Densidade_Grupo_Rodolfo_Cordeiro_João_Pedro_Ana_Julia_Jonathaz_Izac.csv\", 'r', encoding='utf-8') as file:\n",
    "    lines = file.readlines()\n",
    "\n",
    "\n",
    "lines[:30]"
   ]
  },
  {
   "cell_type": "code",
   "execution_count": 12,
   "metadata": {},
   "outputs": [
    {
     "name": "stderr",
     "output_type": "stream",
     "text": [
      "C:\\Users\\jpedr\\AppData\\Local\\Temp\\ipykernel_10196\\2693623770.py:3: FutureWarning: DataFrame.applymap has been deprecated. Use DataFrame.map instead.\n",
      "  df = df.applymap(lambda x: str(x).strip().strip('\"'))\n"
     ]
    },
    {
     "data": {
      "text/html": [
       "<div>\n",
       "<style scoped>\n",
       "    .dataframe tbody tr th:only-of-type {\n",
       "        vertical-align: middle;\n",
       "    }\n",
       "\n",
       "    .dataframe tbody tr th {\n",
       "        vertical-align: top;\n",
       "    }\n",
       "\n",
       "    .dataframe thead th {\n",
       "        text-align: right;\n",
       "    }\n",
       "</style>\n",
       "<table border=\"1\" class=\"dataframe\">\n",
       "  <thead>\n",
       "    <tr style=\"text-align: right;\">\n",
       "      <th></th>\n",
       "      <th>Grandeza</th>\n",
       "      <th>Valor</th>\n",
       "      <th>Resolução</th>\n",
       "      <th>Descrição\\n</th>\n",
       "    </tr>\n",
       "  </thead>\n",
       "  <tbody>\n",
       "    <tr>\n",
       "      <th>0</th>\n",
       "      <td>V</td>\n",
       "      <td>150.0</td>\n",
       "      <td>5.0</td>\n",
       "      <td>\"\"Volume de água no béquer cuja resolução é 5 ml</td>\n",
       "    </tr>\n",
       "    <tr>\n",
       "      <th>1</th>\n",
       "      <td>Ma</td>\n",
       "      <td>144.0</td>\n",
       "      <td>1.0</td>\n",
       "      <td>\"\"Massa da água no béquer, medida pela balança</td>\n",
       "    </tr>\n",
       "    <tr>\n",
       "      <th>2</th>\n",
       "      <td>Mt</td>\n",
       "      <td>300.0</td>\n",
       "      <td>1.0</td>\n",
       "      <td>\"\"Massa total dos discos</td>\n",
       "    </tr>\n",
       "    <tr>\n",
       "      <th>3</th>\n",
       "      <td>Vt</td>\n",
       "      <td>35.0</td>\n",
       "      <td>5.0</td>\n",
       "      <td>\"\"Volume total de água deslocada ao inserir o...</td>\n",
       "    </tr>\n",
       "    <tr>\n",
       "      <th>4</th>\n",
       "      <td>m1</td>\n",
       "      <td>50.0</td>\n",
       "      <td>1.0</td>\n",
       "      <td>\"\"Massa do disco 1 utilizando uma balança dig...</td>\n",
       "    </tr>\n",
       "  </tbody>\n",
       "</table>\n",
       "</div>"
      ],
      "text/plain": [
       "  Grandeza   Valor   Resolução  \\\n",
       "0        V   150.0         5.0   \n",
       "1       Ma   144.0         1.0   \n",
       "2       Mt   300.0         1.0   \n",
       "3       Vt    35.0         5.0   \n",
       "4       m1    50.0         1.0   \n",
       "\n",
       "                                         Descrição\\n  \n",
       "0   \"\"Volume de água no béquer cuja resolução é 5 ml  \n",
       "1     \"\"Massa da água no béquer, medida pela balança  \n",
       "2                           \"\"Massa total dos discos  \n",
       "3   \"\"Volume total de água deslocada ao inserir o...  \n",
       "4   \"\"Massa do disco 1 utilizando uma balança dig...  "
      ]
     },
     "execution_count": 12,
     "metadata": {},
     "output_type": "execute_result"
    }
   ],
   "source": [
    "df = pd.DataFrame([line.split(';') for line in lines[1:]], columns=lines[0].split(';'))\n",
    "\n",
    "df = df.applymap(lambda x: str(x).strip().strip('\"'))\n",
    "\n",
    "df[\" Valor\"] = df[\" Valor\"].astype(float)\n",
    "df[\" Resolução\"] = df[\" Resolução\"].astype(float)\n",
    "\n",
    "df.head()\n"
   ]
  },
  {
   "cell_type": "code",
   "execution_count": 13,
   "metadata": {},
   "outputs": [
    {
     "data": {
      "text/html": [
       "<div>\n",
       "<style scoped>\n",
       "    .dataframe tbody tr th:only-of-type {\n",
       "        vertical-align: middle;\n",
       "    }\n",
       "\n",
       "    .dataframe tbody tr th {\n",
       "        vertical-align: top;\n",
       "    }\n",
       "\n",
       "    .dataframe thead th {\n",
       "        text-align: right;\n",
       "    }\n",
       "</style>\n",
       "<table border=\"1\" class=\"dataframe\">\n",
       "  <thead>\n",
       "    <tr style=\"text-align: right;\">\n",
       "      <th></th>\n",
       "      <th>Disco</th>\n",
       "      <th>Densidade (g/mL)</th>\n",
       "      <th>Incerteza (g/mL)</th>\n",
       "    </tr>\n",
       "  </thead>\n",
       "  <tbody>\n",
       "    <tr>\n",
       "      <th>0</th>\n",
       "      <td>Disco 1</td>\n",
       "      <td>8.333333</td>\n",
       "      <td>1.398853</td>\n",
       "    </tr>\n",
       "    <tr>\n",
       "      <th>1</th>\n",
       "      <td>Disco 2</td>\n",
       "      <td>8.333333</td>\n",
       "      <td>0.714164</td>\n",
       "    </tr>\n",
       "    <tr>\n",
       "      <th>2</th>\n",
       "      <td>Disco 3</td>\n",
       "      <td>5.357143</td>\n",
       "      <td>0.341108</td>\n",
       "    </tr>\n",
       "    <tr>\n",
       "      <th>3</th>\n",
       "      <td>Disco 4</td>\n",
       "      <td>8.333333</td>\n",
       "      <td>0.247597</td>\n",
       "    </tr>\n",
       "    <tr>\n",
       "      <th>4</th>\n",
       "      <td>Disco 5</td>\n",
       "      <td>8.333333</td>\n",
       "      <td>0.323942</td>\n",
       "    </tr>\n",
       "    <tr>\n",
       "      <th>5</th>\n",
       "      <td>Disco 6</td>\n",
       "      <td>8.333333</td>\n",
       "      <td>0.285239</td>\n",
       "    </tr>\n",
       "  </tbody>\n",
       "</table>\n",
       "</div>"
      ],
      "text/plain": [
       "     Disco  Densidade (g/mL)  Incerteza (g/mL)\n",
       "0  Disco 1          8.333333          1.398853\n",
       "1  Disco 2          8.333333          0.714164\n",
       "2  Disco 3          5.357143          0.341108\n",
       "3  Disco 4          8.333333          0.247597\n",
       "4  Disco 5          8.333333          0.323942\n",
       "5  Disco 6          8.333333          0.285239"
      ]
     },
     "execution_count": 13,
     "metadata": {},
     "output_type": "execute_result"
    }
   ],
   "source": [
    "num_discos = 6\n",
    "\n",
    "densidades = []\n",
    "incertezas = []\n",
    "\n",
    "for i in range(1, num_discos + 1):\n",
    "    m = df[df[\"Grandeza\"] == f\"m{i}\"][\" Valor\"].values[0]\n",
    "    ma = df[df[\"Grandeza\"] == f\"ma{i}\"][\" Valor\"].values[0]\n",
    "    \n",
    "    incerteza_m = df[df[\"Grandeza\"] == f\"m{i}\"][\" Resolução\"].values[0]\n",
    "    incerteza_ma = df[df[\"Grandeza\"] == f\"ma{i}\"][\" Resolução\"].values[0]\n",
    "    \n",
    "    incerteza = densidade * ((incerteza_m / m)**2 + (incerteza_ma / ma)**2)**0.5\n",
    "    \n",
    "    ma = ma/i\n",
    "    densidade = m / ma\n",
    "    densidades.append(densidade)\n",
    "    incertezas.append(incerteza)\n",
    "\n",
    "df_densidades = pd.DataFrame({\n",
    "    \"Disco\": [f\"Disco {i}\" for i in range(1, num_discos + 1)],\n",
    "    \"Densidade (g/mL)\": densidades,\n",
    "    \"Incerteza (g/mL)\": incertezas\n",
    "})\n",
    "\n",
    "df_densidades\n"
   ]
  },
  {
   "cell_type": "code",
   "execution_count": 14,
   "metadata": {},
   "outputs": [
    {
     "data": {
      "image/png": "[encoded data removed]",
      "text/plain": [
       "<Figure size 1000x600 with 1 Axes>"
      ]
     },
     "metadata": {},
     "output_type": "display_data"
    }
   ],
   "source": [
    "plt.figure(figsize=(10, 6))\n",
    "plt.errorbar(df_densidades[\"Disco\"], df_densidades[\"Densidade (g/mL)\"], yerr=df_densidades[\"Incerteza (g/mL)\"], \n",
    "             fmt='o', color='blue', ecolor='red', capsize=5, label='Densidade')\n",
    "plt.title('Densidade dos Discos com Incertezas')\n",
    "plt.xlabel('Disco')\n",
    "plt.ylabel('Densidade (g/mL)')\n",
    "plt.legend()\n",
    "plt.grid(True, which='both', linestyle='--', linewidth=0.5)\n",
    "plt.tight_layout()\n",
    " \n",
    "plt.show()\n"
   ]
  }
 ],
 "metadata": {
  "kernelspec": {
   "display_name": "venv",
   "language": "python",
   "name": "python3"
  },
  "language_info": {
   "codemirror_mode": {
    "name": "ipython",
    "version": 3
   },
   "file_extension": ".py",
   "mimetype": "text/x-python",
   "name": "python",
   "nbconvert_exporter": "python",
   "pygments_lexer": "ipython3",
   "version": "3.11.5"
  }
 },
 "nbformat": 4,
 "nbformat_minor": 2
}
